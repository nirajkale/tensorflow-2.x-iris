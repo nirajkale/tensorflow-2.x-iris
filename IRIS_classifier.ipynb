{
  "nbformat": 4,
  "nbformat_minor": 0,
  "metadata": {
    "colab": {
      "name": "IRIS-classifier.ipynb",
      "provenance": [],
      "collapsed_sections": []
    },
    "kernelspec": {
      "name": "python3",
      "display_name": "Python 3"
    }
  },
  "cells": [
    {
      "cell_type": "markdown",
      "metadata": {
        "id": "CHPv0T0lLGsr",
        "colab_type": "text"
      },
      "source": [
        "In this notebook, we'll be doing flower- IRIS classification. This dataset purely is numerical & we'll be exclusively using tensorflow 2.x's newest dataset api (tfds) which is a wrapper around tf.data api. Though it has a bit of a learning curve (as opposed to using keras' functional api + fit method), we'll still try explore it for its clear advantage in execution speed. Furthermore, we'll be using tf 2.x's eager execution feature in the model training itself so as to get the gradient descent out of the black box & to get finer control over the training."
      ]
    },
    {
      "cell_type": "code",
      "metadata": {
        "id": "vT5qZErlLHOm",
        "colab_type": "code",
        "colab": {}
      },
      "source": [
        "import tensorflow as tf\n",
        "from tensorflow.keras import layers, optimizers, regularizers, models\n",
        "import numpy as np\n",
        "import matplotlib.pyplot as plt\n",
        "import tensorflow_datasets as tfds"
      ],
      "execution_count": 0,
      "outputs": []
    },
    {
      "cell_type": "markdown",
      "metadata": {
        "id": "rqxAJpVmh2Fh",
        "colab_type": "text"
      },
      "source": [
        "Once the required libraries are loaded, we can import the iris dataset.\n",
        "Iris is an single-label numerical classification dataset with 3 classes.\n"
      ]
    },
    {
      "cell_type": "code",
      "metadata": {
        "id": "9ICltaDriG0j",
        "colab_type": "code",
        "outputId": "d069dc4a-e69f-4017-ed4b-d469629e4c35",
        "colab": {
          "base_uri": "https://localhost:8080/",
          "height": 527
        }
      },
      "source": [
        "ds, info = tfds.load(\"iris\", split=tfds.Split.TRAIN, with_info = True)\n",
        "print(info)"
      ],
      "execution_count": 161,
      "outputs": [
        {
          "output_type": "stream",
          "text": [
            "tfds.core.DatasetInfo(\n",
            "    name='iris',\n",
            "    version=2.0.0,\n",
            "    description='This is perhaps the best known database to be found in the pattern recognition\n",
            "literature. Fisher's paper is a classic in the field and is referenced\n",
            "frequently to this day. (See Duda & Hart, for example.) The data set contains\n",
            "3 classes of 50 instances each, where each class refers to a type of iris\n",
            "plant. One class is linearly separable from the other 2; the latter are NOT\n",
            "linearly separable from each other.\n",
            "',\n",
            "    homepage='https://archive.ics.uci.edu/ml/datasets/iris',\n",
            "    features=FeaturesDict({\n",
            "        'features': Tensor(shape=(4,), dtype=tf.float32),\n",
            "        'label': ClassLabel(shape=(), dtype=tf.int64, num_classes=3),\n",
            "    }),\n",
            "    total_num_examples=150,\n",
            "    splits={\n",
            "        'train': 150,\n",
            "    },\n",
            "    supervised_keys=('features', 'label'),\n",
            "    citation=\"\"\"@misc{Dua:2019 ,\n",
            "    author = \"Dua, Dheeru and Graff, Casey\",\n",
            "    year = \"2017\",\n",
            "    title = \"{UCI} Machine Learning Repository\",\n",
            "    url = \"http://archive.ics.uci.edu/ml\",\n",
            "    institution = \"University of California, Irvine, School of Information and Computer Sciences\"\n",
            "    }\"\"\",\n",
            "    redistribution_info=,\n",
            ")\n",
            "\n"
          ],
          "name": "stdout"
        }
      ]
    },
    {
      "cell_type": "markdown",
      "metadata": {
        "id": "_vIurfv95Fno",
        "colab_type": "text"
      },
      "source": [
        "As per above information, there are 150 samples where each sample has 4 features & labels with 3 classes. Now apperently there is no VALIDATION & TEST split available for this dataset in TFDS. so we have to split the training split itself (In TFDS parts of the dataset are called SPLIT) into 2 set: Training & Test."
      ]
    },
    {
      "cell_type": "code",
      "metadata": {
        "id": "cz6_kmyf4qHm",
        "colab_type": "code",
        "colab": {}
      },
      "source": [
        "ds_train, info_train = tfds.load(\"iris\", split='train[:80%]', with_info = True)\n",
        "ds_val, info_val = tfds.load(\"iris\", split='train[-20%:]', with_info = True)\n",
        "#print(len(list(ds_train.as_numpy_iterator()))) to verfiy the count but shouldn't be used for larger dataset"
      ],
      "execution_count": 0,
      "outputs": []
    },
    {
      "cell_type": "markdown",
      "metadata": {
        "id": "gryMbcAummHp",
        "colab_type": "text"
      },
      "source": [
        "unfortunately TF dataset does not have cleaner way to get total length of a split (dataset). Even seeing single sample is little hacky as shown below. "
      ]
    },
    {
      "cell_type": "code",
      "metadata": {
        "id": "rswcrorii2X2",
        "colab_type": "code",
        "colab": {
          "base_uri": "https://localhost:8080/",
          "height": 34
        },
        "outputId": "f3954764-2194-4178-dc5f-f2e0a70e53c4"
      },
      "source": [
        "sample = next(iter(ds_train.take(1)))\n",
        "print(sample)"
      ],
      "execution_count": 163,
      "outputs": [
        {
          "output_type": "stream",
          "text": [
            "{'features': <tf.Tensor: shape=(4,), dtype=float32, numpy=array([5.1, 3.4, 1.5, 0.2], dtype=float32)>, 'label': <tf.Tensor: shape=(), dtype=int64, numpy=0>}\n"
          ],
          "name": "stdout"
        }
      ]
    },
    {
      "cell_type": "markdown",
      "metadata": {
        "id": "ZNQVobW_nU_v",
        "colab_type": "text"
      },
      "source": [
        "Now, ideally we would be normalizing the numerical features before training but in case of iris dataset, the standard deviation & mean values per column aren't so huge so we can trust the gradient descent to adjust the weights accordingly. Otherwise we would've used tensorflow transform (tft) library for data normalization.\n",
        "Now, irrespective of whether or not we're doing any normalization, we need to write a preprocessing function to extract features & labels from the dataset records (dictionary)"
      ]
    },
    {
      "cell_type": "code",
      "metadata": {
        "id": "FKPHO-m8nSHO",
        "colab_type": "code",
        "colab": {}
      },
      "source": [
        "def preprocessing_fn(inputs):\n",
        "  print(a)\n",
        "  features= inputs['features']\n",
        "  label = inputs['label']#by referring above info object\n",
        "  return features, label"
      ],
      "execution_count": 0,
      "outputs": []
    },
    {
      "cell_type": "markdown",
      "metadata": {
        "id": "yxH6iMD6q6q5",
        "colab_type": "text"
      },
      "source": [
        "Now, preprocssing function will be just the begining of the input pipeline. Next part of the pipeline will be shuffling & batching. So lets create the whole pipeline at once"
      ]
    },
    {
      "cell_type": "code",
      "metadata": {
        "id": "7hMfKAhWnjUa",
        "colab_type": "code",
        "colab": {
          "base_uri": "https://localhost:8080/",
          "height": 51
        },
        "outputId": "202cfd39-4f7a-42e0-f0cd-44b501728757"
      },
      "source": [
        "ds_train, info_train = tfds.load(\"iris\", split='train[:80%]', with_info = True)\n",
        "ds_train = ds_train.map(preprocessing_fn).shuffle(1024).batch(32)\n",
        "ds_val = ds_val.map(preprocessing_fn).batch(32)"
      ],
      "execution_count": 165,
      "outputs": [
        {
          "output_type": "stream",
          "text": [
            "<tensorflow.python.keras.callbacks.History object at 0x7f5ee27c0b00>\n",
            "<tensorflow.python.keras.callbacks.History object at 0x7f5ee27c0b00>\n"
          ],
          "name": "stdout"
        }
      ]
    },
    {
      "cell_type": "markdown",
      "metadata": {
        "id": "htIDXX-TyAl4",
        "colab_type": "text"
      },
      "source": [
        "The reason, i've re-initialized ds_train is because of some weird issue (not sure if it's an issue) in tfds. Apperantly if we use the take function once, we cannot map the dataset to a preprocessing function.\n",
        "\n",
        "Later in the pipeline, shuffle function in takes buffer size as input & will shuffle the batches in runtime.(we can buffersize ignore it for now as it wont be critical for this dataset). Next we'll add a batching to pipeline so when we iterate over the dataset, we'll by default get data in batches\n",
        "\n",
        "For the sake of performance improvement in larger datasets, you can use the prefetch() function in the pipeline (whcih asynchronously fetches the next batches when the model is busy with training) or you can wait for \"snapshot\" featues in tf 2.3 which would supposedly cache youe pre-processed data in local filesystem.\n",
        "\n",
        "Now lets define the model itself"
      ]
    },
    {
      "cell_type": "code",
      "metadata": {
        "id": "k9nv5vXttW38",
        "colab_type": "code",
        "colab": {}
      },
      "source": [
        "def model_fn():\n",
        "  model_in = layers.Input((4,))\n",
        "  a = layers.Dense(12, activation='relu', kernel_regularizer= tf.keras.regularizers.l2(l=0.001))(model_in)\n",
        "  logits = layers.Dense(3)(a)\n",
        "  model= models.Model(model_in, logits)\n",
        "  return model"
      ],
      "execution_count": 0,
      "outputs": []
    },
    {
      "cell_type": "markdown",
      "metadata": {
        "id": "EKh3WL-bOFyn",
        "colab_type": "text"
      },
      "source": [
        "The model is fairly simple with just 1 hidden layer. If you've noticed, in the last layer i've not used softmax function despite this being a classification datset. This is because i need the raw logits this layer to calculate the loss manually. This wont affect our accuracy calculation as logits & probabilities max out at same location ( as-in argmax result for both would be same)"
      ]
    },
    {
      "cell_type": "code",
      "metadata": {
        "id": "WZPA6ORbtf0X",
        "colab_type": "code",
        "colab": {
          "base_uri": "https://localhost:8080/",
          "height": 272
        },
        "outputId": "d428b04c-91c9-43f8-8f99-5164f971bda6"
      },
      "source": [
        "model = model_fn()\n",
        "print(model.summary())"
      ],
      "execution_count": 167,
      "outputs": [
        {
          "output_type": "stream",
          "text": [
            "Model: \"model_17\"\n",
            "_________________________________________________________________\n",
            "Layer (type)                 Output Shape              Param #   \n",
            "=================================================================\n",
            "input_18 (InputLayer)        [(None, 4)]               0         \n",
            "_________________________________________________________________\n",
            "dense_34 (Dense)             (None, 12)                60        \n",
            "_________________________________________________________________\n",
            "dense_35 (Dense)             (None, 3)                 39        \n",
            "=================================================================\n",
            "Total params: 99\n",
            "Trainable params: 99\n",
            "Non-trainable params: 0\n",
            "_________________________________________________________________\n",
            "None\n"
          ],
          "name": "stdout"
        }
      ]
    },
    {
      "cell_type": "markdown",
      "metadata": {
        "id": "o9r2h6lg6c_w",
        "colab_type": "text"
      },
      "source": [
        "Since we want to use eager execution, we have to write our own custom logic for trainig & validation using something called GradientTape. Now this tape is 2.x only feature meant to compute gardients on the fly. \n",
        "\n",
        "This way of doing training as opposed to simple model.fit may seem like an overkill for this dataset but getting familier with tf.data api & \n",
        "tapes could be perticularly useful when dealing with complex architectures like seq2seq, attention based models etc\n"
      ]
    },
    {
      "cell_type": "markdown",
      "metadata": {
        "id": "fGMsWyhM6gGr",
        "colab_type": "text"
      },
      "source": [
        "So in order to use tape, we first need to define the optimizer & a loss function"
      ]
    },
    {
      "cell_type": "code",
      "metadata": {
        "id": "0V0w1xb6ulE4",
        "colab_type": "code",
        "colab": {}
      },
      "source": [
        "optimizer = optimizers.RMSprop()\n",
        "loss_object = tf.keras.losses.SparseCategoricalCrossentropy(from_logits = True)\n",
        "metric = tf.keras.metrics.SparseCategoricalAccuracy()"
      ],
      "execution_count": 0,
      "outputs": []
    },
    {
      "cell_type": "markdown",
      "metadata": {
        "id": "DOU2SCnk8f6b",
        "colab_type": "text"
      },
      "source": [
        "After this we need a training function or more of training step function which will be responsible for forward & backward prop.\n",
        "\n",
        "Also an evaluation function which will calcuate loss & logits for validation data"
      ]
    },
    {
      "cell_type": "code",
      "metadata": {
        "id": "xWsc_PNz8ed3",
        "colab_type": "code",
        "colab": {}
      },
      "source": [
        "@tf.function\n",
        "def train_step(batch_data, labels):\n",
        "  #forward propagation\n",
        "  with tf.GradientTape() as tape:\n",
        "    logits = model(batch_data, training=True)\n",
        "    loss_val = loss_object(labels, logits)\n",
        "  #backpropagation\n",
        "  gradients = tape.gradient(loss_val, model.trainable_variables)\n",
        "  #based on backprop, update model weights\n",
        "  optimizer.apply_gradients(zip(gradients, model.trainable_variables))\n",
        "  metric.update_state(labels, logits)\n",
        "  return loss_val\n",
        "\n",
        "@tf.function\n",
        "def evaluation_step(batch_data):\n",
        "  logits= model(batch_data, training=False)\n",
        "  loss_val = loss_object(labels, logits)\n",
        "  return logits, loss_val"
      ],
      "execution_count": 0,
      "outputs": []
    },
    {
      "cell_type": "markdown",
      "metadata": {
        "id": "MvaYgSHAPTbn",
        "colab_type": "text"
      },
      "source": [
        "Notice the @tf.function decorator on top of these functions, this tell tensorflow to create graph for this fucntions. This will improve the speed of training as we want a singleton execution for Forward & backward prop.\n",
        "This decorator can be removed for the sake if you want to debug your model training. If you remove this decorator, you'll also get access to the numpy() values of the tensors like grads, batch_loss etc. Pretty inconvinient Eh ?\n",
        "\n",
        "Also, the reason this training step is defined for the execution of 1 batch is because gradient tapes can only be used once. When instantiated, the record all the operations in forward prop & then these ops are used to calcualte gradients in backward propagation\n",
        "\n",
        "Now, we can write the epoch & batch level training loop."
      ]
    },
    {
      "cell_type": "code",
      "metadata": {
        "id": "TXeqQQhk8eY1",
        "colab_type": "code",
        "colab": {
          "base_uri": "https://localhost:8080/",
          "height": 1000
        },
        "outputId": "a6599f7d-33d3-48b0-8910-ffcf093001b4"
      },
      "source": [
        "# tf.executing_eagerly()\n",
        "metrics = {\n",
        "    'loss':[],\n",
        "    'acc':[],\n",
        "    'val_loss':[],\n",
        "    'val_acc':[]\n",
        "}\n",
        "for epoch in range(150):\n",
        "  tf.print('Epoch ',epoch,' started')\n",
        "  metric.reset_states()\n",
        "  num_batches = 0\n",
        "  epoch_loss_train = 0\n",
        "  for batch_data, labels in ds_train:\n",
        "    batch_loss = train_step(batch_data, labels)\n",
        "    # batch_loss = batch_loss.numpy().mean()\n",
        "    num_batches += 1\n",
        "    epoch_loss_train += batch_loss\n",
        "  epoch_loss_train /= num_batches\n",
        "  epoch_acc_train = metric.result()\n",
        "  #do the same for validation set\n",
        "  metric.reset_states()\n",
        "  for batch_data, labels in ds_val:\n",
        "    logits, loss_val = evaluation_step(batch_data)\n",
        "    metric.update_state(labels, logits)\n",
        "  epoch_loss_val = loss_val #because we know there's one validation batch\n",
        "  epoch_acc_val = metric.result()\n",
        "  tf.print('Loss {0} | Acc {1} | Validation Loss {2} | Validation Acc {3}'.format(epoch_loss_train, epoch_acc_train, epoch_loss_val, epoch_acc_val))\n",
        "  metrics['loss'].append(epoch_loss_train)\n",
        "  metrics['val_loss'].append(epoch_acc_train)\n",
        "  metrics['acc'].append(epoch_loss_val)\n",
        "  metrics['val_acc'].append(epoch_acc_val)\n",
        "\n",
        "  \n",
        "  "
      ],
      "execution_count": 170,
      "outputs": [
        {
          "output_type": "stream",
          "text": [
            "Epoch  0  started\n",
            "Loss 1.2170121669769287 | Acc 0.3333333432674408 | Validation Loss 1.1760237216949463 | Validation Acc 0.20000000298023224\n",
            "Epoch  1  started\n",
            "Loss 1.101813554763794 | Acc 0.23333333432674408 | Validation Loss 1.114747405052185 | Validation Acc 0.23333333432674408\n",
            "Epoch  2  started\n",
            "Loss 1.0629459619522095 | Acc 0.25 | Validation Loss 1.0737850666046143 | Validation Acc 0.20000000298023224\n",
            "Epoch  3  started\n",
            "Loss 1.025876760482788 | Acc 0.30000001192092896 | Validation Loss 1.0448575019836426 | Validation Acc 0.13333334028720856\n",
            "Epoch  4  started\n",
            "Loss 1.0010422468185425 | Acc 0.3583333194255829 | Validation Loss 1.0253793001174927 | Validation Acc 0.30000001192092896\n",
            "Epoch  5  started\n",
            "Loss 0.981864869594574 | Acc 0.3916666805744171 | Validation Loss 1.0062241554260254 | Validation Acc 0.3333333432674408\n",
            "Epoch  6  started\n",
            "Loss 0.9625654220581055 | Acc 0.40833333134651184 | Validation Loss 0.989669680595398 | Validation Acc 0.3333333432674408\n",
            "Epoch  7  started\n",
            "Loss 0.9474779367446899 | Acc 0.4583333432674408 | Validation Loss 0.9729572534561157 | Validation Acc 0.3333333432674408\n",
            "Epoch  8  started\n",
            "Loss 0.9315895438194275 | Acc 0.44999998807907104 | Validation Loss 0.9577168822288513 | Validation Acc 0.4000000059604645\n",
            "Epoch  9  started\n",
            "Loss 0.9196577072143555 | Acc 0.49166667461395264 | Validation Loss 0.9429057836532593 | Validation Acc 0.46666666865348816\n",
            "Epoch  10  started\n",
            "Loss 0.9046745896339417 | Acc 0.5333333611488342 | Validation Loss 0.9282906651496887 | Validation Acc 0.5333333611488342\n",
            "Epoch  11  started\n",
            "Loss 0.887784481048584 | Acc 0.6166666746139526 | Validation Loss 0.9135259985923767 | Validation Acc 0.5333333611488342\n",
            "Epoch  12  started\n",
            "Loss 0.8763560056686401 | Acc 0.625 | Validation Loss 0.89873868227005 | Validation Acc 0.6000000238418579\n",
            "Epoch  13  started\n",
            "Loss 0.8641649484634399 | Acc 0.6583333611488342 | Validation Loss 0.8850104808807373 | Validation Acc 0.6000000238418579\n",
            "Epoch  14  started\n",
            "Loss 0.8457828760147095 | Acc 0.6583333611488342 | Validation Loss 0.8728994131088257 | Validation Acc 0.6666666865348816\n",
            "Epoch  15  started\n",
            "Loss 0.8332785964012146 | Acc 0.699999988079071 | Validation Loss 0.8611946702003479 | Validation Acc 0.6333333253860474\n",
            "Epoch  16  started\n",
            "Loss 0.8192782998085022 | Acc 0.6833333373069763 | Validation Loss 0.8481548428535461 | Validation Acc 0.6666666865348816\n",
            "Epoch  17  started\n",
            "Loss 0.81003737449646 | Acc 0.699999988079071 | Validation Loss 0.835378110408783 | Validation Acc 0.7666666507720947\n",
            "Epoch  18  started\n",
            "Loss 0.7946739792823792 | Acc 0.7250000238418579 | Validation Loss 0.8224363327026367 | Validation Acc 0.7666666507720947\n",
            "Epoch  19  started\n",
            "Loss 0.7794541716575623 | Acc 0.7666666507720947 | Validation Loss 0.8130050301551819 | Validation Acc 0.6666666865348816\n",
            "Epoch  20  started\n",
            "Loss 0.7709845900535583 | Acc 0.7083333134651184 | Validation Loss 0.8004499077796936 | Validation Acc 0.699999988079071\n",
            "Epoch  21  started\n",
            "Loss 0.7562403082847595 | Acc 0.7166666388511658 | Validation Loss 0.7896443605422974 | Validation Acc 0.7666666507720947\n",
            "Epoch  22  started\n",
            "Loss 0.74693763256073 | Acc 0.7333333492279053 | Validation Loss 0.7788122296333313 | Validation Acc 0.7666666507720947\n",
            "Epoch  23  started\n",
            "Loss 0.7318341732025146 | Acc 0.7666666507720947 | Validation Loss 0.7680738568305969 | Validation Acc 0.7333333492279053\n",
            "Epoch  24  started\n",
            "Loss 0.7372223734855652 | Acc 0.7083333134651184 | Validation Loss 0.757111668586731 | Validation Acc 0.7666666507720947\n",
            "Epoch  25  started\n",
            "Loss 0.7156366109848022 | Acc 0.7666666507720947 | Validation Loss 0.7473992109298706 | Validation Acc 0.7666666507720947\n",
            "Epoch  26  started\n",
            "Loss 0.7027829885482788 | Acc 0.7833333611488342 | Validation Loss 0.7380267977714539 | Validation Acc 0.7666666507720947\n",
            "Epoch  27  started\n",
            "Loss 0.6913329362869263 | Acc 0.7749999761581421 | Validation Loss 0.7281322479248047 | Validation Acc 0.7666666507720947\n",
            "Epoch  28  started\n",
            "Loss 0.68437659740448 | Acc 0.8166666626930237 | Validation Loss 0.7187458276748657 | Validation Acc 0.7666666507720947\n",
            "Epoch  29  started\n",
            "Loss 0.6729351878166199 | Acc 0.7833333611488342 | Validation Loss 0.7090829610824585 | Validation Acc 0.800000011920929\n",
            "Epoch  30  started\n",
            "Loss 0.6656134128570557 | Acc 0.7749999761581421 | Validation Loss 0.6989860534667969 | Validation Acc 0.8333333134651184\n",
            "Epoch  31  started\n",
            "Loss 0.6511989235877991 | Acc 0.8500000238418579 | Validation Loss 0.6911669373512268 | Validation Acc 0.7666666507720947\n",
            "Epoch  32  started\n",
            "Loss 0.6448100209236145 | Acc 0.7749999761581421 | Validation Loss 0.6809463500976562 | Validation Acc 0.8333333134651184\n",
            "Epoch  33  started\n",
            "Loss 0.6311946511268616 | Acc 0.8416666388511658 | Validation Loss 0.671853244304657 | Validation Acc 0.8333333134651184\n",
            "Epoch  34  started\n",
            "Loss 0.623348593711853 | Acc 0.8166666626930237 | Validation Loss 0.6628759503364563 | Validation Acc 0.8333333134651184\n",
            "Epoch  35  started\n",
            "Loss 0.617175817489624 | Acc 0.8083333373069763 | Validation Loss 0.6527700424194336 | Validation Acc 0.8333333134651184\n",
            "Epoch  36  started\n",
            "Loss 0.6052912473678589 | Acc 0.8666666746139526 | Validation Loss 0.6445040106773376 | Validation Acc 0.8333333134651184\n",
            "Epoch  37  started\n",
            "Loss 0.5978503823280334 | Acc 0.824999988079071 | Validation Loss 0.635532021522522 | Validation Acc 0.8666666746139526\n",
            "Epoch  38  started\n",
            "Loss 0.5907714366912842 | Acc 0.8916666507720947 | Validation Loss 0.6274183392524719 | Validation Acc 0.8666666746139526\n",
            "Epoch  39  started\n",
            "Loss 0.5784316062927246 | Acc 0.8999999761581421 | Validation Loss 0.6196677088737488 | Validation Acc 0.8333333134651184\n",
            "Epoch  40  started\n",
            "Loss 0.5686050653457642 | Acc 0.8666666746139526 | Validation Loss 0.6113203167915344 | Validation Acc 0.8333333134651184\n",
            "Epoch  41  started\n",
            "Loss 0.5607070922851562 | Acc 0.8500000238418579 | Validation Loss 0.6024383902549744 | Validation Acc 0.8666666746139526\n",
            "Epoch  42  started\n",
            "Loss 0.5556012988090515 | Acc 0.875 | Validation Loss 0.5941715836524963 | Validation Acc 0.8666666746139526\n",
            "Epoch  43  started\n",
            "Loss 0.5423764586448669 | Acc 0.9166666865348816 | Validation Loss 0.5885413885116577 | Validation Acc 0.8333333134651184\n",
            "Epoch  44  started\n",
            "Loss 0.5406150221824646 | Acc 0.8500000238418579 | Validation Loss 0.5820185542106628 | Validation Acc 0.8333333134651184\n",
            "Epoch  45  started\n",
            "Loss 0.5272921919822693 | Acc 0.8666666746139526 | Validation Loss 0.5743299722671509 | Validation Acc 0.8666666746139526\n",
            "Epoch  46  started\n",
            "Loss 0.5268272161483765 | Acc 0.8916666507720947 | Validation Loss 0.5676256418228149 | Validation Acc 0.8666666746139526\n",
            "Epoch  47  started\n",
            "Loss 0.5215129256248474 | Acc 0.9083333611488342 | Validation Loss 0.5607572197914124 | Validation Acc 0.8666666746139526\n",
            "Epoch  48  started\n",
            "Loss 0.5115116834640503 | Acc 0.9166666865348816 | Validation Loss 0.5544559955596924 | Validation Acc 0.8666666746139526\n",
            "Epoch  49  started\n",
            "Loss 0.5042435526847839 | Acc 0.8999999761581421 | Validation Loss 0.5473048686981201 | Validation Acc 0.8666666746139526\n",
            "Epoch  50  started\n",
            "Loss 0.49907174706459045 | Acc 0.9333333373069763 | Validation Loss 0.5425470471382141 | Validation Acc 0.8666666746139526\n",
            "Epoch  51  started\n",
            "Loss 0.4879213869571686 | Acc 0.9083333611488342 | Validation Loss 0.5364876389503479 | Validation Acc 0.8666666746139526\n",
            "Epoch  52  started\n",
            "Loss 0.4829750955104828 | Acc 0.9333333373069763 | Validation Loss 0.5318840742111206 | Validation Acc 0.8666666746139526\n",
            "Epoch  53  started\n",
            "Loss 0.48465555906295776 | Acc 0.875 | Validation Loss 0.5236888527870178 | Validation Acc 0.8666666746139526\n",
            "Epoch  54  started\n",
            "Loss 0.4802672266960144 | Acc 0.9083333611488342 | Validation Loss 0.518281102180481 | Validation Acc 0.8999999761581421\n",
            "Epoch  55  started\n",
            "Loss 0.4763724207878113 | Acc 0.925000011920929 | Validation Loss 0.5127612948417664 | Validation Acc 0.8999999761581421\n",
            "Epoch  56  started\n",
            "Loss 0.4670112133026123 | Acc 0.9750000238418579 | Validation Loss 0.5102502107620239 | Validation Acc 0.8666666746139526\n",
            "Epoch  57  started\n",
            "Loss 0.4579502046108246 | Acc 0.925000011920929 | Validation Loss 0.5043981075286865 | Validation Acc 0.8666666746139526\n",
            "Epoch  58  started\n",
            "Loss 0.45470958948135376 | Acc 0.9416666626930237 | Validation Loss 0.49862876534461975 | Validation Acc 0.8666666746139526\n",
            "Epoch  59  started\n",
            "Loss 0.4522610902786255 | Acc 0.9166666865348816 | Validation Loss 0.4934701919555664 | Validation Acc 0.8999999761581421\n",
            "Epoch  60  started\n",
            "Loss 0.4365074336528778 | Acc 0.949999988079071 | Validation Loss 0.4898584187030792 | Validation Acc 0.8666666746139526\n",
            "Epoch  61  started\n",
            "Loss 0.4411563277244568 | Acc 0.9416666626930237 | Validation Loss 0.4849129319190979 | Validation Acc 0.8666666746139526\n",
            "Epoch  62  started\n",
            "Loss 0.4348475933074951 | Acc 0.949999988079071 | Validation Loss 0.4787527024745941 | Validation Acc 0.8999999761581421\n",
            "Epoch  63  started\n",
            "Loss 0.43128296732902527 | Acc 0.9416666626930237 | Validation Loss 0.4734070897102356 | Validation Acc 0.8999999761581421\n",
            "Epoch  64  started\n",
            "Loss 0.4275560677051544 | Acc 0.9583333134651184 | Validation Loss 0.46857112646102905 | Validation Acc 0.8999999761581421\n",
            "Epoch  65  started\n",
            "Loss 0.4184623062610626 | Acc 0.949999988079071 | Validation Loss 0.4651222229003906 | Validation Acc 0.8666666746139526\n",
            "Epoch  66  started\n",
            "Loss 0.4215753972530365 | Acc 0.925000011920929 | Validation Loss 0.46110400557518005 | Validation Acc 0.8666666746139526\n",
            "Epoch  67  started\n",
            "Loss 0.4131234586238861 | Acc 0.949999988079071 | Validation Loss 0.456735759973526 | Validation Acc 0.8999999761581421\n",
            "Epoch  68  started\n",
            "Loss 0.4110230803489685 | Acc 0.9333333373069763 | Validation Loss 0.4518750011920929 | Validation Acc 0.8999999761581421\n",
            "Epoch  69  started\n",
            "Loss 0.4044573903083801 | Acc 0.9666666388511658 | Validation Loss 0.44820263981819153 | Validation Acc 0.8999999761581421\n",
            "Epoch  70  started\n",
            "Loss 0.4010048806667328 | Acc 0.9666666388511658 | Validation Loss 0.44624295830726624 | Validation Acc 0.8999999761581421\n",
            "Epoch  71  started\n",
            "Loss 0.40022239089012146 | Acc 0.9333333373069763 | Validation Loss 0.4407562017440796 | Validation Acc 0.8999999761581421\n",
            "Epoch  72  started\n",
            "Loss 0.3893453776836395 | Acc 0.9666666388511658 | Validation Loss 0.4374179244041443 | Validation Acc 0.8999999761581421\n",
            "Epoch  73  started\n",
            "Loss 0.39176538586616516 | Acc 0.949999988079071 | Validation Loss 0.4334045648574829 | Validation Acc 0.8999999761581421\n",
            "Epoch  74  started\n",
            "Loss 0.38177746534347534 | Acc 0.9833333492279053 | Validation Loss 0.4324225187301636 | Validation Acc 0.8999999761581421\n",
            "Epoch  75  started\n",
            "Loss 0.38033854961395264 | Acc 0.9583333134651184 | Validation Loss 0.4298063814640045 | Validation Acc 0.8666666746139526\n",
            "Epoch  76  started\n",
            "Loss 0.3815096914768219 | Acc 0.9583333134651184 | Validation Loss 0.4252934455871582 | Validation Acc 0.8999999761581421\n",
            "Epoch  77  started\n",
            "Loss 0.38070133328437805 | Acc 0.9583333134651184 | Validation Loss 0.42303404211997986 | Validation Acc 0.8666666746139526\n",
            "Epoch  78  started\n",
            "Loss 0.37381279468536377 | Acc 0.949999988079071 | Validation Loss 0.41619613766670227 | Validation Acc 0.8999999761581421\n",
            "Epoch  79  started\n",
            "Loss 0.37162354588508606 | Acc 0.9750000238418579 | Validation Loss 0.41294029355049133 | Validation Acc 0.8999999761581421\n",
            "Epoch  80  started\n",
            "Loss 0.3645034730434418 | Acc 0.9750000238418579 | Validation Loss 0.4096122682094574 | Validation Acc 0.8999999761581421\n",
            "Epoch  81  started\n",
            "Loss 0.36478132009506226 | Acc 0.9666666388511658 | Validation Loss 0.40724244713783264 | Validation Acc 0.8999999761581421\n",
            "Epoch  82  started\n",
            "Loss 0.36496469378471375 | Acc 0.9333333373069763 | Validation Loss 0.40326252579689026 | Validation Acc 0.8999999761581421\n",
            "Epoch  83  started\n",
            "Loss 0.357805997133255 | Acc 0.9750000238418579 | Validation Loss 0.4001584053039551 | Validation Acc 0.8999999761581421\n",
            "Epoch  84  started\n",
            "Loss 0.352550208568573 | Acc 0.9750000238418579 | Validation Loss 0.3989133834838867 | Validation Acc 0.8999999761581421\n",
            "Epoch  85  started\n",
            "Loss 0.3480379283428192 | Acc 0.9666666388511658 | Validation Loss 0.3963499963283539 | Validation Acc 0.8999999761581421\n",
            "Epoch  86  started\n",
            "Loss 0.34833383560180664 | Acc 0.9583333134651184 | Validation Loss 0.3915115296840668 | Validation Acc 0.8999999761581421\n",
            "Epoch  87  started\n",
            "Loss 0.3458941578865051 | Acc 0.9750000238418579 | Validation Loss 0.3881988227367401 | Validation Acc 0.9333333373069763\n",
            "Epoch  88  started\n",
            "Loss 0.34282419085502625 | Acc 0.9833333492279053 | Validation Loss 0.38751378655433655 | Validation Acc 0.8999999761581421\n",
            "Epoch  89  started\n",
            "Loss 0.3426826000213623 | Acc 0.9666666388511658 | Validation Loss 0.3850373923778534 | Validation Acc 0.8999999761581421\n",
            "Epoch  90  started\n",
            "Loss 0.3337905704975128 | Acc 0.9666666388511658 | Validation Loss 0.38129326701164246 | Validation Acc 0.8999999761581421\n",
            "Epoch  91  started\n",
            "Loss 0.33455416560173035 | Acc 0.9666666388511658 | Validation Loss 0.3778988718986511 | Validation Acc 0.8999999761581421\n",
            "Epoch  92  started\n",
            "Loss 0.3297898769378662 | Acc 0.9750000238418579 | Validation Loss 0.3746868968009949 | Validation Acc 0.9333333373069763\n",
            "Epoch  93  started\n",
            "Loss 0.3281283676624298 | Acc 0.9833333492279053 | Validation Loss 0.37296798825263977 | Validation Acc 0.8999999761581421\n",
            "Epoch  94  started\n",
            "Loss 0.32121655344963074 | Acc 0.9833333492279053 | Validation Loss 0.37184765934944153 | Validation Acc 0.8999999761581421\n",
            "Epoch  95  started\n",
            "Loss 0.32638853788375854 | Acc 0.9750000238418579 | Validation Loss 0.36718109250068665 | Validation Acc 0.8999999761581421\n",
            "Epoch  96  started\n",
            "Loss 0.31850892305374146 | Acc 0.9750000238418579 | Validation Loss 0.3674951195716858 | Validation Acc 0.8999999761581421\n",
            "Epoch  97  started\n",
            "Loss 0.3134602904319763 | Acc 0.9750000238418579 | Validation Loss 0.3645072877407074 | Validation Acc 0.8999999761581421\n",
            "Epoch  98  started\n",
            "Loss 0.3157139718532562 | Acc 0.9666666388511658 | Validation Loss 0.3597899377346039 | Validation Acc 0.8999999761581421\n",
            "Epoch  99  started\n",
            "Loss 0.3118745684623718 | Acc 0.9833333492279053 | Validation Loss 0.35959476232528687 | Validation Acc 0.8999999761581421\n",
            "Epoch  100  started\n",
            "Loss 0.30787187814712524 | Acc 0.9833333492279053 | Validation Loss 0.3587194085121155 | Validation Acc 0.8999999761581421\n",
            "Epoch  101  started\n",
            "Loss 0.3076668083667755 | Acc 0.9666666388511658 | Validation Loss 0.3535515367984772 | Validation Acc 0.8999999761581421\n",
            "Epoch  102  started\n",
            "Loss 0.3023555874824524 | Acc 0.9750000238418579 | Validation Loss 0.35429975390434265 | Validation Acc 0.8999999761581421\n",
            "Epoch  103  started\n",
            "Loss 0.2984696328639984 | Acc 0.9583333134651184 | Validation Loss 0.3475363850593567 | Validation Acc 0.8999999761581421\n",
            "Epoch  104  started\n",
            "Loss 0.296566903591156 | Acc 0.9750000238418579 | Validation Loss 0.34474560618400574 | Validation Acc 0.9333333373069763\n",
            "Epoch  105  started\n",
            "Loss 0.30048036575317383 | Acc 0.9750000238418579 | Validation Loss 0.3419100344181061 | Validation Acc 0.9333333373069763\n",
            "Epoch  106  started\n",
            "Loss 0.2934046983718872 | Acc 0.9833333492279053 | Validation Loss 0.34143689274787903 | Validation Acc 0.8999999761581421\n",
            "Epoch  107  started\n",
            "Loss 0.28926199674606323 | Acc 0.9833333492279053 | Validation Loss 0.3406318128108978 | Validation Acc 0.8999999761581421\n",
            "Epoch  108  started\n",
            "Loss 0.2869955003261566 | Acc 0.9833333492279053 | Validation Loss 0.33895784616470337 | Validation Acc 0.8999999761581421\n",
            "Epoch  109  started\n",
            "Loss 0.2823728024959564 | Acc 0.9833333492279053 | Validation Loss 0.3389343023300171 | Validation Acc 0.8999999761581421\n",
            "Epoch  110  started\n",
            "Loss 0.2846934497356415 | Acc 0.9750000238418579 | Validation Loss 0.3333940804004669 | Validation Acc 0.8999999761581421\n",
            "Epoch  111  started\n",
            "Loss 0.2850497364997864 | Acc 0.9750000238418579 | Validation Loss 0.3311622738838196 | Validation Acc 0.8999999761581421\n",
            "Epoch  112  started\n",
            "Loss 0.2764623463153839 | Acc 0.9833333492279053 | Validation Loss 0.3294205069541931 | Validation Acc 0.8999999761581421\n",
            "Epoch  113  started\n",
            "Loss 0.2774391174316406 | Acc 0.9750000238418579 | Validation Loss 0.323922336101532 | Validation Acc 0.9333333373069763\n",
            "Epoch  114  started\n",
            "Loss 0.2755354642868042 | Acc 0.9833333492279053 | Validation Loss 0.32450905442237854 | Validation Acc 0.8999999761581421\n",
            "Epoch  115  started\n",
            "Loss 0.28211280703544617 | Acc 0.9833333492279053 | Validation Loss 0.3234955668449402 | Validation Acc 0.8999999761581421\n",
            "Epoch  116  started\n",
            "Loss 0.26791128516197205 | Acc 0.9833333492279053 | Validation Loss 0.3238406479358673 | Validation Acc 0.8999999761581421\n",
            "Epoch  117  started\n",
            "Loss 0.26775455474853516 | Acc 0.9750000238418579 | Validation Loss 0.31909531354904175 | Validation Acc 0.8999999761581421\n",
            "Epoch  118  started\n",
            "Loss 0.26342180371284485 | Acc 0.9833333492279053 | Validation Loss 0.31801146268844604 | Validation Acc 0.8999999761581421\n",
            "Epoch  119  started\n",
            "Loss 0.2665961980819702 | Acc 0.9833333492279053 | Validation Loss 0.31404945254325867 | Validation Acc 0.9333333373069763\n",
            "Epoch  120  started\n",
            "Loss 0.26290491223335266 | Acc 0.9833333492279053 | Validation Loss 0.3114706575870514 | Validation Acc 0.9333333373069763\n",
            "Epoch  121  started\n",
            "Loss 0.26216328144073486 | Acc 0.9833333492279053 | Validation Loss 0.3102860748767853 | Validation Acc 0.9333333373069763\n",
            "Epoch  122  started\n",
            "Loss 0.2587950825691223 | Acc 0.9916666746139526 | Validation Loss 0.3118758797645569 | Validation Acc 0.8999999761581421\n",
            "Epoch  123  started\n",
            "Loss 0.25132209062576294 | Acc 0.9750000238418579 | Validation Loss 0.3114713430404663 | Validation Acc 0.8999999761581421\n",
            "Epoch  124  started\n",
            "Loss 0.25654980540275574 | Acc 0.9750000238418579 | Validation Loss 0.3073926568031311 | Validation Acc 0.8999999761581421\n",
            "Epoch  125  started\n",
            "Loss 0.25352734327316284 | Acc 0.9833333492279053 | Validation Loss 0.3031807243824005 | Validation Acc 0.9333333373069763\n",
            "Epoch  126  started\n",
            "Loss 0.2498244345188141 | Acc 0.9833333492279053 | Validation Loss 0.30119088292121887 | Validation Acc 0.9333333373069763\n",
            "Epoch  127  started\n",
            "Loss 0.24918732047080994 | Acc 0.9833333492279053 | Validation Loss 0.30121737718582153 | Validation Acc 0.9333333373069763\n",
            "Epoch  128  started\n",
            "Loss 0.24637958407402039 | Acc 0.9833333492279053 | Validation Loss 0.29780152440071106 | Validation Acc 0.9333333373069763\n",
            "Epoch  129  started\n",
            "Loss 0.24441707134246826 | Acc 0.9750000238418579 | Validation Loss 0.29428112506866455 | Validation Acc 0.9333333373069763\n",
            "Epoch  130  started\n",
            "Loss 0.24242310225963593 | Acc 0.9916666746139526 | Validation Loss 0.29576200246810913 | Validation Acc 0.9333333373069763\n",
            "Epoch  131  started\n",
            "Loss 0.24261623620986938 | Acc 0.9833333492279053 | Validation Loss 0.29561322927474976 | Validation Acc 0.8999999761581421\n",
            "Epoch  132  started\n",
            "Loss 0.2399551272392273 | Acc 0.9833333492279053 | Validation Loss 0.2952081263065338 | Validation Acc 0.8999999761581421\n",
            "Epoch  133  started\n",
            "Loss 0.23807884752750397 | Acc 0.9750000238418579 | Validation Loss 0.28794631361961365 | Validation Acc 0.9333333373069763\n",
            "Epoch  134  started\n",
            "Loss 0.2378670573234558 | Acc 0.9833333492279053 | Validation Loss 0.2856117784976959 | Validation Acc 0.9333333373069763\n",
            "Epoch  135  started\n",
            "Loss 0.2331015020608902 | Acc 0.9916666746139526 | Validation Loss 0.28821244835853577 | Validation Acc 0.9333333373069763\n",
            "Epoch  136  started\n",
            "Loss 0.2301940619945526 | Acc 0.9833333492279053 | Validation Loss 0.2857169210910797 | Validation Acc 0.9333333373069763\n",
            "Epoch  137  started\n",
            "Loss 0.22718669474124908 | Acc 0.9833333492279053 | Validation Loss 0.2853720784187317 | Validation Acc 0.9333333373069763\n",
            "Epoch  138  started\n",
            "Loss 0.22832411527633667 | Acc 0.9833333492279053 | Validation Loss 0.2832642197608948 | Validation Acc 0.9333333373069763\n",
            "Epoch  139  started\n",
            "Loss 0.2270505130290985 | Acc 0.9833333492279053 | Validation Loss 0.2776404321193695 | Validation Acc 0.9333333373069763\n",
            "Epoch  140  started\n",
            "Loss 0.22545991837978363 | Acc 0.9833333492279053 | Validation Loss 0.2759568989276886 | Validation Acc 0.9333333373069763\n",
            "Epoch  141  started\n",
            "Loss 0.22018678486347198 | Acc 0.9833333492279053 | Validation Loss 0.2762696146965027 | Validation Acc 0.9333333373069763\n",
            "Epoch  142  started\n",
            "Loss 0.22327262163162231 | Acc 0.9833333492279053 | Validation Loss 0.27422112226486206 | Validation Acc 0.9333333373069763\n",
            "Epoch  143  started\n",
            "Loss 0.22164514660835266 | Acc 0.9833333492279053 | Validation Loss 0.2772615849971771 | Validation Acc 0.8999999761581421\n",
            "Epoch  144  started\n",
            "Loss 0.21804319322109222 | Acc 0.9833333492279053 | Validation Loss 0.2744746208190918 | Validation Acc 0.9333333373069763\n",
            "Epoch  145  started\n",
            "Loss 0.2169569581747055 | Acc 0.9833333492279053 | Validation Loss 0.27435174584388733 | Validation Acc 0.8999999761581421\n",
            "Epoch  146  started\n",
            "Loss 0.217254638671875 | Acc 0.9833333492279053 | Validation Loss 0.27194133400917053 | Validation Acc 0.9333333373069763\n",
            "Epoch  147  started\n",
            "Loss 0.2125246226787567 | Acc 0.9833333492279053 | Validation Loss 0.2660166919231415 | Validation Acc 0.9333333373069763\n",
            "Epoch  148  started\n",
            "Loss 0.2097683846950531 | Acc 0.9833333492279053 | Validation Loss 0.26922136545181274 | Validation Acc 0.9333333373069763\n",
            "Epoch  149  started\n",
            "Loss 0.2165924608707428 | Acc 0.9833333492279053 | Validation Loss 0.2643369734287262 | Validation Acc 0.9333333373069763\n"
          ],
          "name": "stdout"
        }
      ]
    },
    {
      "cell_type": "markdown",
      "metadata": {
        "id": "nK-T_qBGQ9el",
        "colab_type": "text"
      },
      "source": [
        "After about 100 or so itertions, the val acc seems to be plateau. Of course these are not the most ideal hyperparametrs or the metrics, but for now they'll do the job.\n",
        "\n",
        "We can plot the metrics to see how the training went"
      ]
    },
    {
      "cell_type": "code",
      "metadata": {
        "id": "O7NmTdh4Ji6T",
        "colab_type": "code",
        "colab": {
          "base_uri": "https://localhost:8080/",
          "height": 265
        },
        "outputId": "5f7be2cb-08dc-43dc-b958-d452870b8e4c"
      },
      "source": [
        "import matplotlib.pyplot as plt\n",
        "plt.plot(metrics['loss'], c='r')\n",
        "plt.plot(metrics['val_loss'], c='b')\n",
        "plt.show()"
      ],
      "execution_count": 173,
      "outputs": [
        {
          "output_type": "display_data",
          "data": {
            "image/png": "[encoded data removed]",
            "text/plain": [
              "<Figure size 432x288 with 1 Axes>"
            ]
          },
          "metadata": {
            "tags": []
          }
        }
      ]
    },
    {
      "cell_type": "code",
      "metadata": {
        "id": "as0tGWoEKq7X",
        "colab_type": "code",
        "colab": {
          "base_uri": "https://localhost:8080/",
          "height": 265
        },
        "outputId": "2df0d674-e6b9-458a-b7dd-a34f8e7e7e9e"
      },
      "source": [
        "plt.plot(metrics['acc'], c='r')\n",
        "plt.plot(metrics['val_acc'], c='b')\n",
        "plt.show()"
      ],
      "execution_count": 174,
      "outputs": [
        {
          "output_type": "display_data",
          "data": {
            "image/png": "[encoded data removed]",
            "text/plain": [
              "<Figure size 432x288 with 1 Axes>"
            ]
          },
          "metadata": {
            "tags": []
          }
        }
      ]
    },
    {
      "cell_type": "markdown",
      "metadata": {
        "id": "3UNQQKp0Rh-Y",
        "colab_type": "text"
      },
      "source": [
        "By the way, you can also use the tf dataset instance with all its pipeline components with keras' fit method also."
      ]
    },
    {
      "cell_type": "code",
      "metadata": {
        "id": "2E9qUT81K3iK",
        "colab_type": "code",
        "colab": {}
      },
      "source": [
        "# def model_fn2():\n",
        "#   model_in = layers.Input((4,))\n",
        "#   a = layers.Dense(12, activation='relu', kernel_regularizer= tf.keras.regularizers.l2(l=0.001))(model_in)\n",
        "#   logits = layers.Dense(3, activation='softmax')(a)\n",
        "#   model= models.Model(model_in, logits)\n",
        "#   return model\n",
        "\n",
        "# model2 = model_fn2()\n",
        "# model2.compile(optimizer='adam',loss='SparseCategoricalCrossentropy', metrics=['acc'])\n",
        "# a = model2.fit(ds_train, epochs=100)"
      ],
      "execution_count": 0,
      "outputs": []
    },
    {
      "cell_type": "code",
      "metadata": {
        "id": "aY2gV62lR1Tv",
        "colab_type": "code",
        "colab": {}
      },
      "source": [
        ""
      ],
      "execution_count": 0,
      "outputs": []
    }
  ]
}